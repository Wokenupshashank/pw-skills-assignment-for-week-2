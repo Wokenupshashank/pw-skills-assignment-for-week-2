{
 "cells": [
  {
   "cell_type": "raw",
   "id": "799281d4-87a1-4e87-9ea4-c8efe701794d",
   "metadata": {},
   "source": [
    "Q.1>  we can do comment in our code by writing \"#\" in front of the code or by using pair of tripple quotes... \n",
    "\n",
    "\n",
    "there aare two type of comment:\n",
    "    i> Single line comment : it is used when have to write a comment in a single line..\n",
    "      . it done using \"#\" this symbol.\n",
    "      . just write # symbol before writing a code..\n",
    "      . for eg.> # this is single line comment\n",
    "    \n",
    "    ii.> multiline commment:it is used when we have to write multi line comment..\n",
    "        . it done using triple  quotes.\n",
    "        . just write the comments inside the triple quotes and after writing the comments close the triple qoutes.\n",
    "        \n",
    "        for eg: ''' this is. \n",
    "        \n",
    "               multiline comment.\n",
    "               \n",
    "               we can  write this'''"
   ]
  },
  {
   "cell_type": "raw",
   "id": "3ca73c08-c00c-4f9c-9f7f-a36f8cd63363",
   "metadata": {},
   "source": [
    "Q2.> Variable is entity used to store values.\n",
    "#declaring and assigning the values :\n",
    "for eg:  a=90\n",
    "\n",
    "where a is variable which stores a int value\n",
    "    "
   ]
  },
  {
   "cell_type": "code",
   "execution_count": 4,
   "id": "bf4ad643-7200-4155-b1a4-ecadfb3688d9",
   "metadata": {},
   "outputs": [
    {
     "name": "stdout",
     "output_type": "stream",
     "text": [
      "<class 'str'>\n"
     ]
    },
    {
     "data": {
      "text/plain": [
       "'string variable'"
      ]
     },
     "execution_count": 4,
     "metadata": {},
     "output_type": "execute_result"
    }
   ],
   "source": [
    "#declaring a string variable\n",
    "b=\"string variable\"\n",
    "print(type(b))\n",
    "b"
   ]
  },
  {
   "cell_type": "code",
   "execution_count": 7,
   "id": "8bb8124a-27de-4472-aa6c-2cad66990492",
   "metadata": {},
   "outputs": [
    {
     "name": "stdout",
     "output_type": "stream",
     "text": [
      "<class 'str'>\n",
      "<class 'int'>\n"
     ]
    }
   ],
   "source": [
    "#Q3.>We can convert one data type in to another data type by type cssting them ...for eg:\n",
    "#converting string into int\n",
    "s=\"100\"\n",
    "b=int(s)\n",
    "print(type(s))\n",
    "print(type(b))"
   ]
  },
  {
   "cell_type": "code",
   "execution_count": 8,
   "id": "259a7aaa-b482-45ea-abdb-a69000f39b97",
   "metadata": {},
   "outputs": [],
   "source": [
    "# Q4.>You need to open a command line and type the word python followed by the path to your script file like this:\n",
    "#     python first_script \n",
    "#     Then you hit the ENTER button from the keyboard.\n",
    "    "
   ]
  },
  {
   "cell_type": "code",
   "execution_count": 9,
   "id": "c9b85a62-09ac-4b60-82f2-44ce4e2f897e",
   "metadata": {},
   "outputs": [
    {
     "data": {
      "text/plain": [
       "[2, 3]"
      ]
     },
     "execution_count": 9,
     "metadata": {},
     "output_type": "execute_result"
    }
   ],
   "source": [
    "#Q5:\n",
    "my_list=[1,2,3,4,5]\n",
    "my_list[1:3]"
   ]
  },
  {
   "cell_type": "raw",
   "id": "b3093ac4-4b3f-407f-a986-1965049a0277",
   "metadata": {},
   "source": [
    "complex number is the combination of real and imaginary number.it is in the form of a+ib.\n",
    "\n",
    "where a=real number\n",
    "      b=imaginary number\n",
    "      i=it is called iota , its value under root -1.\n",
    "    "
   ]
  },
  {
   "cell_type": "code",
   "execution_count": 14,
   "id": "ba320e2e-a8bf-4477-bbe9-b5262aaeed73",
   "metadata": {},
   "outputs": [
    {
     "name": "stdout",
     "output_type": "stream",
     "text": [
      "<class 'complex'>\n",
      "(4+9j)\n",
      "4.0\n",
      "9.0\n"
     ]
    }
   ],
   "source": [
    "# in python complex number is represented in the form of a+jb.where:\n",
    "        # .a is real number \n",
    "        # .b is imaginary number\n",
    "comp=4+9j\n",
    "print(type(comp))\n",
    "#printing comp variable\n",
    "print(comp)\n",
    "#printing real part\n",
    "print(comp.real)\n",
    "#printing imaginary value\n",
    "print(comp.imag)"
   ]
  },
  {
   "cell_type": "code",
   "execution_count": 16,
   "id": "f3b29246-3124-4971-b3a1-29eb3de93413",
   "metadata": {},
   "outputs": [
    {
     "data": {
      "text/plain": [
       "25"
      ]
     },
     "execution_count": 16,
     "metadata": {},
     "output_type": "execute_result"
    }
   ],
   "source": [
    "# Q7:\n",
    "age=25\n",
    "age"
   ]
  },
  {
   "cell_type": "code",
   "execution_count": 17,
   "id": "86e66065-ed28-4a19-b307-634a4683f48a",
   "metadata": {},
   "outputs": [
    {
     "name": "stdout",
     "output_type": "stream",
     "text": [
      "<class 'float'>\n"
     ]
    }
   ],
   "source": [
    "# Q8:\n",
    "price=9.99\n",
    "#it will belong to class float.\n",
    "print(type(price))"
   ]
  },
  {
   "cell_type": "code",
   "execution_count": 18,
   "id": "c2ef05ce-d356-447a-aabc-2d0310d5aca0",
   "metadata": {},
   "outputs": [
    {
     "name": "stdout",
     "output_type": "stream",
     "text": [
      "Shashank\n"
     ]
    }
   ],
   "source": [
    "# Q9:\n",
    "name=\"Shashank\"\n",
    "#for printing the value of variable name\n",
    "print(name)"
   ]
  },
  {
   "cell_type": "code",
   "execution_count": 26,
   "id": "61db665f-3846-4a0b-a2ac-2a7a8e68d0c7",
   "metadata": {},
   "outputs": [
    {
     "name": "stdout",
     "output_type": "stream",
     "text": [
      "World\n"
     ]
    }
   ],
   "source": [
    "str=\"Hello World!\"\n",
    "str[-6:-1]\n",
    "print(str[6:11])"
   ]
  },
  {
   "cell_type": "code",
   "execution_count": 27,
   "id": "4fec7a8c-8684-4b7b-bae0-61b19e7751dd",
   "metadata": {},
   "outputs": [
    {
     "data": {
      "text/plain": [
       "True"
      ]
     },
     "execution_count": 27,
     "metadata": {},
     "output_type": "execute_result"
    }
   ],
   "source": [
    "is_student=True\n",
    "is_student"
   ]
  },
  {
   "cell_type": "code",
   "execution_count": null,
   "id": "d96ecbe0-3768-4aa6-a66c-b3e26218429e",
   "metadata": {},
   "outputs": [],
   "source": []
  }
 ],
 "metadata": {
  "kernelspec": {
   "display_name": "Python 3 (ipykernel)",
   "language": "python",
   "name": "python3"
  },
  "language_info": {
   "codemirror_mode": {
    "name": "ipython",
    "version": 3
   },
   "file_extension": ".py",
   "mimetype": "text/x-python",
   "name": "python",
   "nbconvert_exporter": "python",
   "pygments_lexer": "ipython3",
   "version": "3.10.8"
  }
 },
 "nbformat": 4,
 "nbformat_minor": 5
}
